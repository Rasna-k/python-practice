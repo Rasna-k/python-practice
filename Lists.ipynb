{
  "nbformat": 4,
  "nbformat_minor": 0,
  "metadata": {
    "colab": {
      "provenance": [],
      "authorship_tag": "ABX9TyOOMbk5TMRkja4N6/vbDJur",
      "include_colab_link": true
    },
    "kernelspec": {
      "name": "python3",
      "display_name": "Python 3"
    },
    "language_info": {
      "name": "python"
    }
  },
  "cells": [
    {
      "cell_type": "markdown",
      "metadata": {
        "id": "view-in-github",
        "colab_type": "text"
      },
      "source": [
        "<a href=\"https://colab.research.google.com/github/Rasna-k/python-practice/blob/main/Lists.ipynb\" target=\"_parent\"><img src=\"https://colab.research.google.com/assets/colab-badge.svg\" alt=\"Open In Colab\"/></a>"
      ]
    },
    {
      "cell_type": "markdown",
      "source": [
        "# LISTS (Mutable)"
      ],
      "metadata": {
        "id": "41qDjRDkFS3R"
      }
    },
    {
      "cell_type": "code",
      "source": [
        "num=[1,2,3,4,5]\n",
        "num[1],num[4]=eval(input('Enter two numbers : '))\n",
        "print(num)"
      ],
      "metadata": {
        "colab": {
          "base_uri": "https://localhost:8080/"
        },
        "id": "1kbeRhQe1V3Q",
        "outputId": "84eeb979-3653-42e1-e108-e487ec5a7f27"
      },
      "execution_count": null,
      "outputs": [
        {
          "output_type": "stream",
          "name": "stdout",
          "text": [
            "Enter two numbers : 4,6\n",
            "[1, 4, 3, 4, 6]\n"
          ]
        }
      ]
    },
    {
      "cell_type": "markdown",
      "source": [
        "**Iteration**"
      ],
      "metadata": {
        "id": "0_PpJzbhD6Ix"
      }
    },
    {
      "cell_type": "code",
      "source": [
        "states=[\"J&K\",'PUNJAB','HARYANA','ASSAM']\n",
        "for s in states:\n",
        "  print(s)"
      ],
      "metadata": {
        "colab": {
          "base_uri": "https://localhost:8080/"
        },
        "id": "yTUVlpN7K__J",
        "outputId": "b3a51963-2d05-40e1-e813-bf7a1dd81940"
      },
      "execution_count": null,
      "outputs": [
        {
          "output_type": "stream",
          "name": "stdout",
          "text": [
            "J&K\n",
            "PUNJAB\n",
            "HARYANA\n",
            "ASSAM\n"
          ]
        }
      ]
    },
    {
      "cell_type": "code",
      "source": [
        "states=[\"J&K\",'PUNJAB','HARYANA','ASSAM']\n",
        "for s in range (len(states)):\n",
        "  print(states[s])"
      ],
      "metadata": {
        "colab": {
          "base_uri": "https://localhost:8080/"
        },
        "id": "DgrCyDvqN55d",
        "outputId": "ef720aca-f363-4fde-f8b5-ed192d449d66"
      },
      "execution_count": null,
      "outputs": [
        {
          "output_type": "stream",
          "name": "stdout",
          "text": [
            "J&K\n",
            "PUNJAB\n",
            "HARYANA\n",
            "ASSAM\n"
          ]
        }
      ]
    },
    {
      "cell_type": "markdown",
      "source": [
        "**Membership**"
      ],
      "metadata": {
        "id": "o6IkSKd7DZNw"
      }
    },
    {
      "cell_type": "code",
      "source": [
        "l=[3,7,9,10,15]\n",
        "print(3 in l)\n",
        "print(5 in l)\n",
        "print(8 not in l)"
      ],
      "metadata": {
        "colab": {
          "base_uri": "https://localhost:8080/"
        },
        "id": "JhpL1UzoEQHj",
        "outputId": "1c101239-6475-475d-c785-d3ee79864425"
      },
      "execution_count": null,
      "outputs": [
        {
          "output_type": "stream",
          "name": "stdout",
          "text": [
            "True\n",
            "False\n",
            "True\n"
          ]
        }
      ]
    },
    {
      "cell_type": "markdown",
      "source": [
        "**indexing,slicing**"
      ],
      "metadata": {
        "id": "_WvqZvHOEsZB"
      }
    },
    {
      "cell_type": "code",
      "source": [
        "l1=['phy','chem',1997,2000]\n",
        "l2=[1,2,3,4,5,6,7]\n",
        "print('l1 = {0} \\nl2 = {1}'.format(l1,l2))\n",
        "print('l1[3] =',str(l1[3]))\n",
        "print('l2[1:3] =',str(l2[1:3]))"
      ],
      "metadata": {
        "colab": {
          "base_uri": "https://localhost:8080/"
        },
        "id": "NETzalwjEsrE",
        "outputId": "8bc3aa18-1ed4-4b1b-9258-e065e0b3c7af"
      },
      "execution_count": null,
      "outputs": [
        {
          "output_type": "stream",
          "name": "stdout",
          "text": [
            "l1 = ['phy', 'chem', 1997, 2000] \n",
            "l2 = [1, 2, 3, 4, 5, 6, 7]\n",
            "l1[3] = 2000\n",
            "l2[1:3] = [2, 3]\n"
          ]
        }
      ]
    },
    {
      "cell_type": "code",
      "source": [
        "print(l2[::-1])\n",
        "print(l2[::-2])\n",
        "print(l2[::-3])"
      ],
      "metadata": {
        "colab": {
          "base_uri": "https://localhost:8080/"
        },
        "id": "IbLFwJi64ms9",
        "outputId": "03763511-7e32-48c3-d5c4-e15227e0fb52"
      },
      "execution_count": null,
      "outputs": [
        {
          "output_type": "stream",
          "name": "stdout",
          "text": [
            "[7, 6, 5, 4, 3, 2, 1]\n",
            "[7, 5, 3, 1]\n",
            "[7, 4, 1]\n"
          ]
        }
      ]
    },
    {
      "cell_type": "markdown",
      "source": [
        "**2D lists**"
      ],
      "metadata": {
        "id": "EkZ2rkCL0lYX"
      }
    },
    {
      "cell_type": "code",
      "source": [
        "twodlist=[[1,2,3],[4,5,6]]\n",
        "print(twodlist[1][2])\n",
        "twodlist[1]"
      ],
      "metadata": {
        "colab": {
          "base_uri": "https://localhost:8080/"
        },
        "id": "7qJDvU2i0pdR",
        "outputId": "ccfff87e-2797-44f1-9d2b-9b2cbcfeb222"
      },
      "execution_count": null,
      "outputs": [
        {
          "output_type": "stream",
          "name": "stdout",
          "text": [
            "6\n"
          ]
        },
        {
          "output_type": "execute_result",
          "data": {
            "text/plain": [
              "[4, 5, 6]"
            ]
          },
          "metadata": {},
          "execution_count": 113
        }
      ]
    },
    {
      "cell_type": "markdown",
      "source": [
        "### Changing value"
      ],
      "metadata": {
        "id": "YhEnAVY4KnYJ"
      }
    },
    {
      "cell_type": "code",
      "source": [
        "l1[2]=2001      #list is mutable , can be changed\n",
        "print (l1)"
      ],
      "metadata": {
        "colab": {
          "base_uri": "https://localhost:8080/"
        },
        "outputId": "c136c9ec-a31d-4577-c9ce-31e17ba7b56e",
        "id": "ib3bcpKDKnYc"
      },
      "execution_count": null,
      "outputs": [
        {
          "output_type": "stream",
          "name": "stdout",
          "text": [
            "['phy', 'chem', 2001, 2000]\n"
          ]
        }
      ]
    },
    {
      "cell_type": "markdown",
      "source": [
        "### Insertion and Deletion"
      ],
      "metadata": {
        "id": "H4qeRuPhHEga"
      }
    },
    {
      "cell_type": "code",
      "source": [
        "#Insertion\n",
        "\n",
        "l1[1:1]='math'                         #Slicing\n",
        "print(l1)"
      ],
      "metadata": {
        "colab": {
          "base_uri": "https://localhost:8080/"
        },
        "id": "2h007kIDH0_B",
        "outputId": "6163f7a2-0658-4701-95b6-9322f5c57473"
      },
      "execution_count": null,
      "outputs": [
        {
          "output_type": "stream",
          "name": "stdout",
          "text": [
            "['phy', 'm', 'a', 't', 'h', 'chem', 2001, 2000]\n"
          ]
        }
      ]
    },
    {
      "cell_type": "code",
      "source": [
        "l1=['phy','chem',1997,2000]\n",
        "l1[1:1]=['math']\n",
        "print(l1)"
      ],
      "metadata": {
        "colab": {
          "base_uri": "https://localhost:8080/"
        },
        "id": "NvkMjWHHIAM_",
        "outputId": "ecc7304c-6052-497b-a1e3-93cd05c75210"
      },
      "execution_count": null,
      "outputs": [
        {
          "output_type": "stream",
          "name": "stdout",
          "text": [
            "['phy', 'math', 'chem', 1997, 2000]\n"
          ]
        }
      ]
    },
    {
      "cell_type": "code",
      "source": [
        "l1=['phy','chem',1997,2000]\n",
        "l1.append('a')                         #append\n",
        "print(l1)"
      ],
      "metadata": {
        "colab": {
          "base_uri": "https://localhost:8080/"
        },
        "id": "zBveMOMAIa6v",
        "outputId": "fe25c886-c0e4-4140-ac54-d61d85bb055d"
      },
      "execution_count": null,
      "outputs": [
        {
          "output_type": "stream",
          "name": "stdout",
          "text": [
            "['phy', 'chem', 1997, 2000, 'a']\n"
          ]
        }
      ]
    },
    {
      "cell_type": "code",
      "source": [
        "l1=['phy','chem',1997,2000]\n",
        "l1.append([10,11,12])\n",
        "print (l1)"
      ],
      "metadata": {
        "colab": {
          "base_uri": "https://localhost:8080/"
        },
        "id": "O5ufefKuIinO",
        "outputId": "e0a87ba8-7dba-4f59-b70d-53238e54f684"
      },
      "execution_count": null,
      "outputs": [
        {
          "output_type": "stream",
          "name": "stdout",
          "text": [
            "['phy', 'chem', 1997, 2000, [10, 11, 12]]\n"
          ]
        }
      ]
    },
    {
      "cell_type": "code",
      "source": [
        "l1=['phy','chem',1997,2000]\n",
        "l1.insert(2,'m')                      #insert\n",
        "print(l1)"
      ],
      "metadata": {
        "colab": {
          "base_uri": "https://localhost:8080/"
        },
        "id": "BoqZQBrrJN-y",
        "outputId": "f28d58d1-a6b5-45bf-c3be-77d1f1e5421e"
      },
      "execution_count": null,
      "outputs": [
        {
          "output_type": "stream",
          "name": "stdout",
          "text": [
            "['phy', 'chem', 'm', 1997, 2000]\n"
          ]
        }
      ]
    },
    {
      "cell_type": "code",
      "source": [
        "l1=['phy','chem',1997,2000]\n",
        "l1.extend([9,8,7])                    #extend\n",
        "print(l1)"
      ],
      "metadata": {
        "colab": {
          "base_uri": "https://localhost:8080/"
        },
        "id": "DaVJqTiGJNpZ",
        "outputId": "80d9da62-9a1c-4e4d-e02f-5ed676177848"
      },
      "execution_count": null,
      "outputs": [
        {
          "output_type": "stream",
          "name": "stdout",
          "text": [
            "['phy', 'chem', 1997, 2000, 9, 8, 7]\n"
          ]
        }
      ]
    },
    {
      "cell_type": "code",
      "source": [
        "#Deletion\n",
        "\n",
        "del (l1[2])                           #del\n",
        "print(l1)\n",
        "#del[2:3] = ['phy','chem']\n"
      ],
      "metadata": {
        "colab": {
          "base_uri": "https://localhost:8080/"
        },
        "id": "4iQkkjxRINLg",
        "outputId": "038c0334-2f41-4ae1-e5e0-056135b55b49"
      },
      "execution_count": null,
      "outputs": [
        {
          "output_type": "stream",
          "name": "stdout",
          "text": [
            "['phy', 'chem', 2000, 9, 8, 7]\n"
          ]
        }
      ]
    },
    {
      "cell_type": "code",
      "source": [
        "l1[2:3]=[]                            #slicing\n",
        "print(l1)"
      ],
      "metadata": {
        "colab": {
          "base_uri": "https://localhost:8080/"
        },
        "id": "AAZcZaYqKKCR",
        "outputId": "a794b70e-6038-48cd-c73e-3de3a3093dde"
      },
      "execution_count": null,
      "outputs": [
        {
          "output_type": "stream",
          "name": "stdout",
          "text": [
            "['phy', 'chem', 9, 8, 7]\n"
          ]
        }
      ]
    },
    {
      "cell_type": "code",
      "source": [
        "l=['a','b','c','b']\n",
        "l.remove('b')                         #remove\n",
        "print(l)"
      ],
      "metadata": {
        "colab": {
          "base_uri": "https://localhost:8080/"
        },
        "id": "QOUvV6vJK9nu",
        "outputId": "3bbd1132-55f9-483d-c7f6-f42ffe8d9fe5"
      },
      "execution_count": null,
      "outputs": [
        {
          "output_type": "stream",
          "name": "stdout",
          "text": [
            "['a', 'c', 'b']\n"
          ]
        }
      ]
    },
    {
      "cell_type": "code",
      "source": [
        "l.pop()\n",
        "print(l)                              #pop"
      ],
      "metadata": {
        "colab": {
          "base_uri": "https://localhost:8080/"
        },
        "id": "CoxplHkpLUyJ",
        "outputId": "32d1851a-baf9-45f2-d862-0ed5914b4ba7"
      },
      "execution_count": null,
      "outputs": [
        {
          "output_type": "stream",
          "name": "stdout",
          "text": [
            "['a', 'c']\n"
          ]
        }
      ]
    },
    {
      "cell_type": "code",
      "source": [
        "l.pop(0)\n",
        "print(l)"
      ],
      "metadata": {
        "colab": {
          "base_uri": "https://localhost:8080/"
        },
        "id": "SG3IMfmMLxDl",
        "outputId": "c1bd90f9-b8a8-45d0-9d77-bf908e85bdba"
      },
      "execution_count": null,
      "outputs": [
        {
          "output_type": "stream",
          "name": "stdout",
          "text": [
            "['c']\n"
          ]
        }
      ]
    },
    {
      "cell_type": "markdown",
      "source": [
        "### Repetition"
      ],
      "metadata": {
        "id": "z4F4Wm80z0ra"
      }
    },
    {
      "cell_type": "code",
      "source": [
        "l=[1,2,3,4]\n",
        "a=l*4\n",
        "b=[l]*4\n",
        "print(a)\n",
        "print(b)"
      ],
      "metadata": {
        "colab": {
          "base_uri": "https://localhost:8080/"
        },
        "id": "v4233uwGz7nT",
        "outputId": "a5bdf2cd-5869-4529-b559-e2e6abd34a77"
      },
      "execution_count": null,
      "outputs": [
        {
          "output_type": "stream",
          "name": "stdout",
          "text": [
            "[1, 2, 3, 4, 1, 2, 3, 4, 1, 2, 3, 4, 1, 2, 3, 4]\n",
            "[[1, 2, 3, 4], [1, 2, 3, 4], [1, 2, 3, 4], [1, 2, 3, 4]]\n"
          ]
        }
      ]
    },
    {
      "cell_type": "code",
      "source": [
        "l[1]=0\n",
        "print(a)\n",
        "print(b)"
      ],
      "metadata": {
        "colab": {
          "base_uri": "https://localhost:8080/"
        },
        "id": "i8a4pFo-0I1X",
        "outputId": "23661d79-70cc-4e85-a5f6-2532f2a398f3"
      },
      "execution_count": null,
      "outputs": [
        {
          "output_type": "stream",
          "name": "stdout",
          "text": [
            "[1, 2, 3, 4, 1, 2, 3, 4, 1, 2, 3, 4, 1, 2, 3, 4]\n",
            "[[1, 0, 3, 4], [1, 0, 3, 4], [1, 0, 3, 4], [1, 0, 3, 4]]\n"
          ]
        }
      ]
    },
    {
      "cell_type": "markdown",
      "source": [
        "### cmp() : Compare function"
      ],
      "metadata": {
        "id": "h1Fz3IuPMa9N"
      }
    },
    {
      "cell_type": "markdown",
      "source": [
        "*  Takes two arguments\n",
        "*  If first list is greater than second list , then output = 1\n",
        "*  If first list is smaller than second list , then output = -1\n",
        "*  If first list is equal to second list , then output = 0\n",
        "\n",
        "\n",
        "\n"
      ],
      "metadata": {
        "id": "2U3UUmuHMyAU"
      }
    },
    {
      "cell_type": "markdown",
      "source": [
        "```\n",
        "l1=[1,2,4,10]\n",
        "l2=[1,2,4,'a']\n",
        "l3=['a','b','c','d']\n",
        "cmp(l1,l2)\n",
        "cmp(l2,l1)\n",
        "cmp(l2,l3)\n",
        "```\n",
        "```\n",
        " -1\n",
        "  1\n",
        " -1\n",
        "```\n"
      ],
      "metadata": {
        "id": "RG-9J-qmOsJv"
      }
    },
    {
      "cell_type": "markdown",
      "source": [
        "### zip() method"
      ],
      "metadata": {
        "id": "_LEoYjAuPjcr"
      }
    },
    {
      "cell_type": "code",
      "source": [
        "name=['Manjeet','Nikhil','Shambavi','Astha']\n",
        "roll_no=[4,1,3,2]\n",
        "marks=[40,50,60,70]\n",
        "mapped=set(zip(name,roll_no,marks))\n",
        "print(mapped)"
      ],
      "metadata": {
        "colab": {
          "base_uri": "https://localhost:8080/"
        },
        "id": "o0IJW2XNMlYl",
        "outputId": "cd5c7100-9836-43e4-d177-ba067750a302"
      },
      "execution_count": null,
      "outputs": [
        {
          "output_type": "stream",
          "name": "stdout",
          "text": [
            "{('Shambavi', 3, 60), ('Astha', 2, 70), ('Nikhil', 1, 50), ('Manjeet', 4, 40)}\n"
          ]
        }
      ]
    },
    {
      "cell_type": "code",
      "source": [
        "#unzipping values\n",
        "\n",
        "n,r,m=zip(*mapped)\n",
        "print(n,\"\\n\",r,\"\\n\",m)"
      ],
      "metadata": {
        "colab": {
          "base_uri": "https://localhost:8080/"
        },
        "id": "D_5y6hZjQauW",
        "outputId": "1467fe61-a8ba-419c-fb4b-81460dd26777"
      },
      "execution_count": null,
      "outputs": [
        {
          "output_type": "stream",
          "name": "stdout",
          "text": [
            "('Shambavi', 'Astha', 'Nikhil', 'Manjeet') \n",
            " (3, 2, 1, 4) \n",
            " (60, 70, 50, 40)\n"
          ]
        }
      ]
    },
    {
      "cell_type": "markdown",
      "source": [
        "### list() method"
      ],
      "metadata": {
        "id": "ZWygfg0wQxVE"
      }
    },
    {
      "cell_type": "code",
      "source": [
        "list(\"34AMrit\")"
      ],
      "metadata": {
        "colab": {
          "base_uri": "https://localhost:8080/"
        },
        "id": "QIrBbaxzQ1Xp",
        "outputId": "8ba2879a-7c28-47af-e2c8-489e5acaf817"
      },
      "execution_count": null,
      "outputs": [
        {
          "output_type": "execute_result",
          "data": {
            "text/plain": [
              "['3', '4', 'A', 'M', 'r', 'i', 't']"
            ]
          },
          "metadata": {},
          "execution_count": 47
        }
      ]
    },
    {
      "cell_type": "code",
      "source": [
        "list(1234)"
      ],
      "metadata": {
        "colab": {
          "base_uri": "https://localhost:8080/",
          "height": 165
        },
        "id": "WPWwIkoWQ9WT",
        "outputId": "9fdfb345-f590-4982-8036-7c8a13871373"
      },
      "execution_count": null,
      "outputs": [
        {
          "output_type": "error",
          "ename": "TypeError",
          "evalue": "ignored",
          "traceback": [
            "\u001b[0;31m---------------------------------------------------------------------------\u001b[0m",
            "\u001b[0;31mTypeError\u001b[0m                                 Traceback (most recent call last)",
            "\u001b[0;32m<ipython-input-48-1d46027d1a4e>\u001b[0m in \u001b[0;36m<cell line: 1>\u001b[0;34m()\u001b[0m\n\u001b[0;32m----> 1\u001b[0;31m \u001b[0mlist\u001b[0m\u001b[0;34m(\u001b[0m\u001b[0;36m1234\u001b[0m\u001b[0;34m)\u001b[0m\u001b[0;34m\u001b[0m\u001b[0;34m\u001b[0m\u001b[0m\n\u001b[0m",
            "\u001b[0;31mTypeError\u001b[0m: 'int' object is not iterable"
          ]
        }
      ]
    },
    {
      "cell_type": "code",
      "source": [
        "list('1234')"
      ],
      "metadata": {
        "colab": {
          "base_uri": "https://localhost:8080/"
        },
        "id": "uJnvyoBJREn3",
        "outputId": "c6eb360a-b76e-403e-b5a4-de1010676189"
      },
      "execution_count": null,
      "outputs": [
        {
          "output_type": "execute_result",
          "data": {
            "text/plain": [
              "['1', '2', '3', '4']"
            ]
          },
          "metadata": {},
          "execution_count": 49
        }
      ]
    },
    {
      "cell_type": "code",
      "source": [
        "list((1,2,3))"
      ],
      "metadata": {
        "colab": {
          "base_uri": "https://localhost:8080/"
        },
        "id": "XDgNlinDRJC4",
        "outputId": "daa58677-d791-470d-815a-049202d370aa"
      },
      "execution_count": null,
      "outputs": [
        {
          "output_type": "execute_result",
          "data": {
            "text/plain": [
              "[1, 2, 3]"
            ]
          },
          "metadata": {},
          "execution_count": 50
        }
      ]
    },
    {
      "cell_type": "markdown",
      "source": [
        "### Other methods"
      ],
      "metadata": {
        "id": "1XXvvoe4RO2D"
      }
    },
    {
      "cell_type": "code",
      "source": [
        "l=[1,11,3,4,5,3,4,4]\n",
        "max(l)"
      ],
      "metadata": {
        "colab": {
          "base_uri": "https://localhost:8080/"
        },
        "id": "xqFvlJrDRTOK",
        "outputId": "9c78745a-fced-4b14-fa70-3748d9cf4ee9"
      },
      "execution_count": null,
      "outputs": [
        {
          "output_type": "execute_result",
          "data": {
            "text/plain": [
              "11"
            ]
          },
          "metadata": {},
          "execution_count": 64
        }
      ]
    },
    {
      "cell_type": "code",
      "source": [
        "min(l)"
      ],
      "metadata": {
        "colab": {
          "base_uri": "https://localhost:8080/"
        },
        "id": "sBC1f42_RvJw",
        "outputId": "a9589324-931c-465b-8205-c2e06a6f9fe2"
      },
      "execution_count": null,
      "outputs": [
        {
          "output_type": "execute_result",
          "data": {
            "text/plain": [
              "1"
            ]
          },
          "metadata": {},
          "execution_count": 57
        }
      ]
    },
    {
      "cell_type": "code",
      "source": [
        "l.index(4)"
      ],
      "metadata": {
        "colab": {
          "base_uri": "https://localhost:8080/"
        },
        "id": "Txy0ZtS3RyAn",
        "outputId": "b6784914-3492-4151-a433-849459d71686"
      },
      "execution_count": null,
      "outputs": [
        {
          "output_type": "execute_result",
          "data": {
            "text/plain": [
              "3"
            ]
          },
          "metadata": {},
          "execution_count": 61
        }
      ]
    },
    {
      "cell_type": "code",
      "source": [
        "l.count(4)"
      ],
      "metadata": {
        "colab": {
          "base_uri": "https://localhost:8080/"
        },
        "id": "fyR78GEYR_7l",
        "outputId": "a1f23a4c-ec7a-4d5b-f5d0-1ec75ed4c06a"
      },
      "execution_count": null,
      "outputs": [
        {
          "output_type": "execute_result",
          "data": {
            "text/plain": [
              "3"
            ]
          },
          "metadata": {},
          "execution_count": 65
        }
      ]
    },
    {
      "cell_type": "code",
      "source": [
        "l.reverse()           #inplace\n",
        "print(l)"
      ],
      "metadata": {
        "colab": {
          "base_uri": "https://localhost:8080/"
        },
        "id": "qKcl9AY5SXRJ",
        "outputId": "80d55c71-f23a-40a9-fcd2-eeee3e2150c5"
      },
      "execution_count": null,
      "outputs": [
        {
          "output_type": "stream",
          "name": "stdout",
          "text": [
            "[4, 4, 3, 5, 4, 3, 11, 1]\n"
          ]
        }
      ]
    },
    {
      "cell_type": "code",
      "source": [
        "l.sort()              #inplace\n",
        "print(l)"
      ],
      "metadata": {
        "colab": {
          "base_uri": "https://localhost:8080/"
        },
        "id": "EuZGLdeMSfIw",
        "outputId": "276bb2dd-4964-492b-a06f-4367355ad97a"
      },
      "execution_count": null,
      "outputs": [
        {
          "output_type": "stream",
          "name": "stdout",
          "text": [
            "[1, 3, 3, 4, 4, 4, 5, 11]\n"
          ]
        }
      ]
    },
    {
      "cell_type": "markdown",
      "source": [
        "### List Comprehension"
      ],
      "metadata": {
        "id": "g44D5ApRTBZP"
      }
    },
    {
      "cell_type": "code",
      "source": [
        "lst=[x**2 for x in range(1,11)]\n",
        "print(lst)"
      ],
      "metadata": {
        "colab": {
          "base_uri": "https://localhost:8080/"
        },
        "id": "4PDkJgF6THDA",
        "outputId": "9d81022b-035a-4aba-fe63-e5a52865ec8a"
      },
      "execution_count": null,
      "outputs": [
        {
          "output_type": "stream",
          "name": "stdout",
          "text": [
            "[1, 4, 9, 16, 25, 36, 49, 64, 81, 100]\n"
          ]
        }
      ]
    },
    {
      "cell_type": "code",
      "source": [
        "lst=[x**2 for x in range(1,11) if x%2==1]\n",
        "print(lst)"
      ],
      "metadata": {
        "colab": {
          "base_uri": "https://localhost:8080/"
        },
        "id": "6at2d0XSTSbR",
        "outputId": "ae76cf4a-49df-4a28-d4f5-7fa966264b98"
      },
      "execution_count": null,
      "outputs": [
        {
          "output_type": "stream",
          "name": "stdout",
          "text": [
            "[1, 9, 25, 49, 81]\n"
          ]
        }
      ]
    },
    {
      "cell_type": "code",
      "source": [
        "lst=[x**2 for x in range(1,11) if x%2==0]\n",
        "print(lst)"
      ],
      "metadata": {
        "colab": {
          "base_uri": "https://localhost:8080/"
        },
        "id": "xCxEFu5HTgVd",
        "outputId": "913d469b-f82f-4dba-b5a6-1d8cdfdcae75"
      },
      "execution_count": null,
      "outputs": [
        {
          "output_type": "stream",
          "name": "stdout",
          "text": [
            "[4, 16, 36, 64, 100]\n"
          ]
        }
      ]
    },
    {
      "cell_type": "code",
      "source": [
        "vec1=[2,4,6]\n",
        "vec2=[4,3,-9]\n",
        "crsprd=[x*y for x in vec1 and for y in vec2]    #cross product\n",
        "print(crsprd)"
      ],
      "metadata": {
        "colab": {
          "base_uri": "https://localhost:8080/",
          "height": 130
        },
        "id": "-MX354YiTmuX",
        "outputId": "64804fe1-f957-4aa2-f3ae-e3ea3f9b0091"
      },
      "execution_count": null,
      "outputs": [
        {
          "output_type": "error",
          "ename": "SyntaxError",
          "evalue": "ignored",
          "traceback": [
            "\u001b[0;36m  File \u001b[0;32m\"<ipython-input-75-e703f11258a0>\"\u001b[0;36m, line \u001b[0;32m3\u001b[0m\n\u001b[0;31m    crsprd=[x*y for x in vec1 and for y in vec2]    #cross product\u001b[0m\n\u001b[0m                                  ^\u001b[0m\n\u001b[0;31mSyntaxError\u001b[0m\u001b[0;31m:\u001b[0m invalid syntax\n"
          ]
        }
      ]
    },
    {
      "cell_type": "code",
      "source": [
        "vec1=[2,4,6]\n",
        "vec2=[4,3,-9]\n",
        "crsprd=[x*y for x in vec1 for y in vec2]    #cross product\n",
        "print(crsprd)"
      ],
      "metadata": {
        "colab": {
          "base_uri": "https://localhost:8080/"
        },
        "id": "YUCzcBMQUN9N",
        "outputId": "cfcbdd31-a39e-4c50-b1d4-b1dc0b7e3e18"
      },
      "execution_count": null,
      "outputs": [
        {
          "output_type": "stream",
          "name": "stdout",
          "text": [
            "[8, 6, -18, 16, 12, -36, 24, 18, -54]\n"
          ]
        }
      ]
    },
    {
      "cell_type": "code",
      "source": [
        "s=[x+y for x in vec1 for y in vec2]\n",
        "print(s)"
      ],
      "metadata": {
        "colab": {
          "base_uri": "https://localhost:8080/"
        },
        "id": "y35HTnIGT_4T",
        "outputId": "73ba975a-82ac-4e69-cb09-b655a5c9eb9e"
      },
      "execution_count": null,
      "outputs": [
        {
          "output_type": "stream",
          "name": "stdout",
          "text": [
            "[6, 5, -7, 8, 7, -5, 10, 9, -3]\n"
          ]
        }
      ]
    },
    {
      "cell_type": "code",
      "source": [
        "prd=[vec1[i]*vec2[i] for i in range(len(vec1))]\n",
        "print(prd)"
      ],
      "metadata": {
        "colab": {
          "base_uri": "https://localhost:8080/"
        },
        "id": "1iw6LfCVUqpY",
        "outputId": "9e8a8ae6-b9f4-4d7c-effd-b4dedcb6c7b5"
      },
      "execution_count": null,
      "outputs": [
        {
          "output_type": "stream",
          "name": "stdout",
          "text": [
            "[8, 12, -54]\n"
          ]
        }
      ]
    },
    {
      "cell_type": "code",
      "source": [
        "r=[i for i in range(100)if i>10 and i<50]\n",
        "print(r)"
      ],
      "metadata": {
        "colab": {
          "base_uri": "https://localhost:8080/"
        },
        "id": "8vH38crTU8Ma",
        "outputId": "ccfccd7d-5800-44a8-c4ec-6c671df1a1aa"
      },
      "execution_count": null,
      "outputs": [
        {
          "output_type": "stream",
          "name": "stdout",
          "text": [
            "[11, 12, 13, 14, 15, 16, 17, 18, 19, 20, 21, 22, 23, 24, 25, 26, 27, 28, 29, 30, 31, 32, 33, 34, 35, 36, 37, 38, 39, 40, 41, 42, 43, 44, 45, 46, 47, 48, 49]\n"
          ]
        }
      ]
    },
    {
      "cell_type": "markdown",
      "source": [
        "### List Equivalence/Reference"
      ],
      "metadata": {
        "id": "h1whb-_9WAuD"
      }
    },
    {
      "cell_type": "code",
      "source": [
        "a=[10,20,30,40]\n",
        "b=a\n",
        "c=[10,20,30,40]                                 #creating a list in this syntax , creates a new list object in memory\n",
        "print('a : {0} , id(a) : {1}'.format(a,id(a)))\n",
        "print('b : {0} , id(b) : {1}'.format(b,id(b)))\n",
        "print('c : {0} , id(c) : {1}'.format(c,id(c)))"
      ],
      "metadata": {
        "colab": {
          "base_uri": "https://localhost:8080/"
        },
        "id": "gMk8u3klZ0e5",
        "outputId": "68dbeb18-680e-466e-b503-932de702f4e0"
      },
      "execution_count": null,
      "outputs": [
        {
          "output_type": "stream",
          "name": "stdout",
          "text": [
            "a : [10, 20, 30, 40] , id(a) : 140060709156672\n",
            "b : [10, 20, 30, 40] , id(b) : 140060709156672\n",
            "c : [10, 20, 30, 40] , id(c) : 140060709152256\n"
          ]
        }
      ]
    },
    {
      "cell_type": "code",
      "source": [
        "b[2]=35\n",
        "\n",
        "print('a : {0} , id(a) : {1}'.format(a,id(a)))\n",
        "print('b : {0} , id(b) : {1}'.format(b,id(b)))\n",
        "print('c : {0} , id(c) : {1}'.format(c,id(c)))"
      ],
      "metadata": {
        "colab": {
          "base_uri": "https://localhost:8080/"
        },
        "id": "ISjNmRu-WCpI",
        "outputId": "c9abfa10-7d24-4d2a-a6ee-732556600286"
      },
      "execution_count": null,
      "outputs": [
        {
          "output_type": "stream",
          "name": "stdout",
          "text": [
            "a : [10, 20, 35, 40] , id(a) : 140060709156672\n",
            "b : [10, 20, 35, 40] , id(b) : 140060709156672\n",
            "c : [10, 20, 30, 40] , id(c) : 140060709152256\n"
          ]
        }
      ]
    },
    {
      "cell_type": "code",
      "source": [
        "a==b"
      ],
      "metadata": {
        "colab": {
          "base_uri": "https://localhost:8080/"
        },
        "id": "t0rOJq_ta6FV",
        "outputId": "68f25cd6-751b-4d72-c830-c64e9cb5b47f"
      },
      "execution_count": null,
      "outputs": [
        {
          "output_type": "execute_result",
          "data": {
            "text/plain": [
              "True"
            ]
          },
          "metadata": {},
          "execution_count": 88
        }
      ]
    },
    {
      "cell_type": "code",
      "source": [
        "b==c"
      ],
      "metadata": {
        "colab": {
          "base_uri": "https://localhost:8080/"
        },
        "id": "eWF28wSUa9h_",
        "outputId": "b34fb5e8-812c-4894-a5be-b410a40f758d"
      },
      "execution_count": null,
      "outputs": [
        {
          "output_type": "execute_result",
          "data": {
            "text/plain": [
              "True"
            ]
          },
          "metadata": {},
          "execution_count": 89
        }
      ]
    },
    {
      "cell_type": "code",
      "source": [
        "a is b"
      ],
      "metadata": {
        "colab": {
          "base_uri": "https://localhost:8080/"
        },
        "id": "XjEYSfFxbAeW",
        "outputId": "c1d8b0c5-722d-419b-f75e-f016725ea98b"
      },
      "execution_count": null,
      "outputs": [
        {
          "output_type": "execute_result",
          "data": {
            "text/plain": [
              "True"
            ]
          },
          "metadata": {},
          "execution_count": 90
        }
      ]
    },
    {
      "cell_type": "code",
      "source": [
        "b is c"
      ],
      "metadata": {
        "colab": {
          "base_uri": "https://localhost:8080/"
        },
        "id": "JwT0zU0ObC62",
        "outputId": "c9af047a-1f40-424d-947b-294fcdfc186c"
      },
      "execution_count": null,
      "outputs": [
        {
          "output_type": "execute_result",
          "data": {
            "text/plain": [
              "False"
            ]
          },
          "metadata": {},
          "execution_count": 91
        }
      ]
    }
  ]
}