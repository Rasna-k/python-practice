{
  "nbformat": 4,
  "nbformat_minor": 0,
  "metadata": {
    "colab": {
      "provenance": [],
      "authorship_tag": "ABX9TyPf509qGRwwMXvOEkVFA+Xj",
      "include_colab_link": true
    },
    "kernelspec": {
      "name": "python3",
      "display_name": "Python 3"
    },
    "language_info": {
      "name": "python"
    }
  },
  "cells": [
    {
      "cell_type": "markdown",
      "metadata": {
        "id": "view-in-github",
        "colab_type": "text"
      },
      "source": [
        "<a href=\"https://colab.research.google.com/github/Rasna-k/python-practice/blob/main/Questions.ipynb\" target=\"_parent\"><img src=\"https://colab.research.google.com/assets/colab-badge.svg\" alt=\"Open In Colab\"/></a>"
      ]
    },
    {
      "cell_type": "markdown",
      "source": [
        "# QUESTIONS"
      ],
      "metadata": {
        "id": "v9xx3r2N29S2"
      }
    },
    {
      "cell_type": "markdown",
      "source": [
        "#### *1. program to check a given number is even or odd*"
      ],
      "metadata": {
        "id": "WHsyluoPFek5"
      }
    },
    {
      "cell_type": "code",
      "execution_count": null,
      "metadata": {
        "id": "U7aRuAeZf7XF",
        "colab": {
          "base_uri": "https://localhost:8080/"
        },
        "outputId": "1667e016-0dac-41a7-831d-e56089b4ed1c"
      },
      "outputs": [
        {
          "name": "stdout",
          "output_type": "stream",
          "text": [
            "Enter a number to check for even or odd 15\n"
          ]
        }
      ],
      "source": [
        "a=int(input('Enter a number to check for even or odd '))"
      ]
    },
    {
      "cell_type": "code",
      "source": [
        "if a%2==0 :\n",
        "  print(f'The given number {a} is even')\n",
        "else :\n",
        "  print(f'The given number {a} is odd')"
      ],
      "metadata": {
        "colab": {
          "base_uri": "https://localhost:8080/"
        },
        "id": "QaqI8PL6F-Yn",
        "outputId": "52ae57d9-88b3-411a-f2cb-06c89ad86cb7"
      },
      "execution_count": null,
      "outputs": [
        {
          "output_type": "stream",
          "name": "stdout",
          "text": [
            "The given number 15 is odd\n"
          ]
        }
      ]
    },
    {
      "cell_type": "markdown",
      "source": [
        "#### 2. write a program to accept marks from user and print the division"
      ],
      "metadata": {
        "id": "7KEosv-MGnWk"
      }
    },
    {
      "cell_type": "code",
      "source": [
        "m1=int(input('Enter the marks of first subject '))\n",
        "m2=int(input('Enter the marks of second subject '))\n",
        "m3=int(input('Enter the marks of third subject '))"
      ],
      "metadata": {
        "id": "45WDiPaiGiAS"
      },
      "execution_count": null,
      "outputs": []
    },
    {
      "cell_type": "code",
      "source": [
        "tot=m1+m2+m3\n",
        "perc=(tot/3.0)\n",
        "print(f' Your percentage is {round(perc,2)}')"
      ],
      "metadata": {
        "id": "5alPte2GGixm"
      },
      "execution_count": null,
      "outputs": []
    },
    {
      "cell_type": "code",
      "source": [
        "if perc>=60 :\n",
        "  print('FIRST DIVISION ')\n",
        "elif perc<60 and perc>=48 :\n",
        "  print('SECOND DIVISION')\n",
        "elif perc<48 and perc>=36 :\n",
        "  print ('PASS')\n",
        "else :\n",
        "  print ('FAIL')"
      ],
      "metadata": {
        "id": "2Ugd95amGi09"
      },
      "execution_count": null,
      "outputs": []
    },
    {
      "cell_type": "markdown",
      "source": [
        "#### 3. accept 10 numbers and find maximum"
      ],
      "metadata": {
        "id": "_ve0ylyIRSSn"
      }
    },
    {
      "cell_type": "code",
      "source": [
        "print(\"Enter 10 numbers :\\n\")\n",
        "n=int(input())\n",
        "max=n\n",
        "for i in range (9):\n",
        "  n=int(input())\n",
        "  if n>max:\n",
        "    max=n\n",
        "print('Maximum = '+str(max))"
      ],
      "metadata": {
        "colab": {
          "base_uri": "https://localhost:8080/"
        },
        "id": "ugOGviAcRjJ4",
        "outputId": "f7a02c93-782e-4117-99fb-f6cc6d814543"
      },
      "execution_count": null,
      "outputs": [
        {
          "output_type": "stream",
          "name": "stdout",
          "text": [
            "Enter 10 numbers :\n",
            "\n",
            "45\n",
            "85\n",
            "14\n",
            "0\n",
            "26\n",
            "-5\n",
            "23\n",
            "56\n",
            "-25\n",
            "78\n",
            "Maximum = 85\n"
          ]
        }
      ]
    },
    {
      "cell_type": "markdown",
      "source": [
        "### 4.write a program to return sum of digits of given number of three digits"
      ],
      "metadata": {
        "id": "-AeCgntJJy_I"
      }
    },
    {
      "cell_type": "code",
      "source": [
        "n=int(input('Enter a number whose sum of digits is to be found '))"
      ],
      "metadata": {
        "id": "IQwwiIFhJ7AO"
      },
      "execution_count": null,
      "outputs": []
    },
    {
      "cell_type": "code",
      "source": [
        "d1=n%10\n",
        "x=n//10\n",
        "d10=x%10\n",
        "d100=x//10"
      ],
      "metadata": {
        "id": "thzwsGKdKYg0"
      },
      "execution_count": null,
      "outputs": []
    },
    {
      "cell_type": "code",
      "source": [
        "print(f'ones place = {d1}')\n",
        "print(f'tens place ={d10}')\n",
        "print(f'hundreds place ={d100}')"
      ],
      "metadata": {
        "id": "TnpQ_2C8KYkF"
      },
      "execution_count": null,
      "outputs": []
    },
    {
      "cell_type": "code",
      "source": [
        "sum=d1+d10+d100\n",
        "print(f' The sum of digits is equal to {sum}')"
      ],
      "metadata": {
        "id": "EZCcKfhBLJ_q"
      },
      "execution_count": null,
      "outputs": []
    },
    {
      "cell_type": "markdown",
      "source": [
        "### 5.write code to print digits of a given number"
      ],
      "metadata": {
        "id": "xprAhzCkDMZt"
      }
    },
    {
      "cell_type": "code",
      "source": [
        "a=int(input('Enter a number '))"
      ],
      "metadata": {
        "id": "Dlno2fO5DYIi"
      },
      "execution_count": null,
      "outputs": []
    },
    {
      "cell_type": "code",
      "source": [
        "while a!=0 :\n",
        "  d=a%10\n",
        "  a=a//10\n",
        "  print(d)"
      ],
      "metadata": {
        "id": "sv8bkI6mDiIV"
      },
      "execution_count": null,
      "outputs": []
    },
    {
      "cell_type": "markdown",
      "source": [
        "### 6.write a program to print sum of digits of a given number"
      ],
      "metadata": {
        "id": "ZV3JoyntFjqZ"
      }
    },
    {
      "cell_type": "code",
      "source": [
        "n=int(input('Enter a number '))\n",
        "sum=0"
      ],
      "metadata": {
        "id": "L6l60YHpFrIg"
      },
      "execution_count": null,
      "outputs": []
    },
    {
      "cell_type": "code",
      "source": [
        "while n!=0 :\n",
        "  d=n%10\n",
        "  n=n//10\n",
        "  sum+=d\n",
        "  print(d)\n",
        "print('Sum = '+ str(sum))"
      ],
      "metadata": {
        "id": "Cu0ypINIFrMC"
      },
      "execution_count": null,
      "outputs": []
    },
    {
      "cell_type": "markdown",
      "source": [
        "### 7.Write python code to find the greatest digit in the given number"
      ],
      "metadata": {
        "id": "o8CyuAxVJ-Ub"
      }
    },
    {
      "cell_type": "code",
      "source": [
        "n=int(input('Enter a number '))\n",
        "d=n%10\n",
        "greatest=d"
      ],
      "metadata": {
        "id": "RlDrPkAPDiTA"
      },
      "execution_count": null,
      "outputs": []
    },
    {
      "cell_type": "code",
      "source": [
        "while n!=0 :\n",
        "  d=n%10\n",
        "  n=n//10\n",
        "  print(d)\n",
        "  if d>greatest :\n",
        "    greatest=d\n",
        "print ('greatest = '+ str(greatest))"
      ],
      "metadata": {
        "id": "EDCqFaqXZf20"
      },
      "execution_count": null,
      "outputs": []
    },
    {
      "cell_type": "markdown",
      "source": [
        "### 8.Find greatest digit and if occurs more than once show count"
      ],
      "metadata": {
        "id": "WZqK3L0kiz0p"
      }
    },
    {
      "cell_type": "code",
      "source": [
        "n=int(input('Enter a number '))\n",
        "greatest=n%10\n",
        "c=0"
      ],
      "metadata": {
        "id": "ezBfpnS7Zf6A"
      },
      "execution_count": null,
      "outputs": []
    },
    {
      "cell_type": "code",
      "source": [
        "while n!=0 :\n",
        "  d=n%10\n",
        "  n=n//10\n",
        "  print(d)\n",
        "  if d==greatest :\n",
        "    c+=1\n",
        "  if d>greatest :\n",
        "    greatest=d\n",
        "\n",
        "print ('greatest = '+ str(greatest)+\"(appears \"+str(c)+\" times )\")"
      ],
      "metadata": {
        "id": "gWX1Ep9yjHmF"
      },
      "execution_count": null,
      "outputs": []
    },
    {
      "cell_type": "markdown",
      "source": [
        "### 9.Accept 10 numbers from user and at the end print their sum , Average, max and min"
      ],
      "metadata": {
        "id": "mek3F24imATo"
      }
    },
    {
      "cell_type": "code",
      "source": [
        "s=0"
      ],
      "metadata": {
        "id": "FqXLytrsmeYi"
      },
      "execution_count": null,
      "outputs": []
    },
    {
      "cell_type": "code",
      "source": [
        "max=int(input(\"Enter 10 numbers : \"))\n",
        "min=max\n",
        "for i in range(9) :\n",
        "  n=int(input())\n",
        "  s+=n\n",
        "  if n>max :\n",
        "    max=n\n",
        "  if n<min :\n",
        "    min =n\n",
        "avg=s/10\n",
        "print (\"Total sum = \"+ str(s))\n",
        "print(\"Average = \"+str(avg))\n",
        "print(\"Max = \"+str(max) +\"\\nMin = \"+str(min))\n"
      ],
      "metadata": {
        "id": "nNSQvmHcjHzZ"
      },
      "execution_count": null,
      "outputs": []
    },
    {
      "cell_type": "code",
      "source": [],
      "metadata": {
        "id": "xfDg9rKJ7Zm9"
      },
      "execution_count": null,
      "outputs": []
    },
    {
      "cell_type": "markdown",
      "source": [
        "### 10.WAP to check whether a given number is prime or not"
      ],
      "metadata": {
        "id": "0zUguopTiySt"
      }
    },
    {
      "cell_type": "code",
      "source": [
        "n=int(input('Enter a number to check for prime : '))\n",
        "c=0\n",
        "print(\"Factors are : \")\n",
        "for i in range (2,n):\n",
        "  if (n%i==0):\n",
        "    c+=1\n",
        "    print(i)\n",
        "if c>0 :\n",
        "  print('The given number is COMPOSITE (not prime)')\n",
        "else :\n",
        "  print('NULL \\nThe given number is PRIME')"
      ],
      "metadata": {
        "id": "7fWMBfUeiyzU"
      },
      "execution_count": null,
      "outputs": []
    },
    {
      "cell_type": "markdown",
      "source": [
        "### 11.Find those numbers which are divisible by 7 and multiple of 5 between 1500 and 2700 both included"
      ],
      "metadata": {
        "id": "0KN_2MEmlBQr"
      }
    },
    {
      "cell_type": "code",
      "source": [
        "for n in range (1500,2701):\n",
        "  if n%7==0 and n%5==0 :\n",
        "    print (n)"
      ],
      "metadata": {
        "id": "g-l4dYv8lBhB"
      },
      "execution_count": null,
      "outputs": []
    },
    {
      "cell_type": "markdown",
      "source": [
        "### 12.Print fibonacci series between 0 to 50"
      ],
      "metadata": {
        "id": "m9ONF_X8t49g"
      }
    },
    {
      "cell_type": "code",
      "source": [
        "a,b=0,1\n",
        "while a<=50:\n",
        "  print(a)\n",
        "  c=a+b\n",
        "  a=b\n",
        "  b=c"
      ],
      "metadata": {
        "id": "BJp98sNQt5NK"
      },
      "execution_count": null,
      "outputs": []
    },
    {
      "cell_type": "markdown",
      "source": [
        "### 13.There are vehicle numbers from 0000 to 9999. WAP to print the numbers whose sum of digits is 9."
      ],
      "metadata": {
        "id": "qyYLgQKGaIvM"
      }
    },
    {
      "cell_type": "code",
      "source": [
        "for n in range (10000):\n",
        "  s=0\n",
        "  for d in str(n):\n",
        "    s=s+int(d)\n",
        "  if s==9 :\n",
        "   print(format(n,'04'))"
      ],
      "metadata": {
        "colab": {
          "base_uri": "https://localhost:8080/"
        },
        "id": "YLRt2NZoZWrJ",
        "outputId": "e3b61e9b-721f-4f27-eaaa-5ad84239e0de"
      },
      "execution_count": null,
      "outputs": [
        {
          "output_type": "stream",
          "name": "stdout",
          "text": [
            "0009\n",
            "0018\n",
            "0027\n",
            "0036\n",
            "0045\n",
            "0054\n",
            "0063\n",
            "0072\n",
            "0081\n",
            "0090\n",
            "0108\n",
            "0117\n",
            "0126\n",
            "0135\n",
            "0144\n",
            "0153\n",
            "0162\n",
            "0171\n",
            "0180\n",
            "0207\n",
            "0216\n",
            "0225\n",
            "0234\n",
            "0243\n",
            "0252\n",
            "0261\n",
            "0270\n",
            "0306\n",
            "0315\n",
            "0324\n",
            "0333\n",
            "0342\n",
            "0351\n",
            "0360\n",
            "0405\n",
            "0414\n",
            "0423\n",
            "0432\n",
            "0441\n",
            "0450\n",
            "0504\n",
            "0513\n",
            "0522\n",
            "0531\n",
            "0540\n",
            "0603\n",
            "0612\n",
            "0621\n",
            "0630\n",
            "0702\n",
            "0711\n",
            "0720\n",
            "0801\n",
            "0810\n",
            "0900\n",
            "1008\n",
            "1017\n",
            "1026\n",
            "1035\n",
            "1044\n",
            "1053\n",
            "1062\n",
            "1071\n",
            "1080\n",
            "1107\n",
            "1116\n",
            "1125\n",
            "1134\n",
            "1143\n",
            "1152\n",
            "1161\n",
            "1170\n",
            "1206\n",
            "1215\n",
            "1224\n",
            "1233\n",
            "1242\n",
            "1251\n",
            "1260\n",
            "1305\n",
            "1314\n",
            "1323\n",
            "1332\n",
            "1341\n",
            "1350\n",
            "1404\n",
            "1413\n",
            "1422\n",
            "1431\n",
            "1440\n",
            "1503\n",
            "1512\n",
            "1521\n",
            "1530\n",
            "1602\n",
            "1611\n",
            "1620\n",
            "1701\n",
            "1710\n",
            "1800\n",
            "2007\n",
            "2016\n",
            "2025\n",
            "2034\n",
            "2043\n",
            "2052\n",
            "2061\n",
            "2070\n",
            "2106\n",
            "2115\n",
            "2124\n",
            "2133\n",
            "2142\n",
            "2151\n",
            "2160\n",
            "2205\n",
            "2214\n",
            "2223\n",
            "2232\n",
            "2241\n",
            "2250\n",
            "2304\n",
            "2313\n",
            "2322\n",
            "2331\n",
            "2340\n",
            "2403\n",
            "2412\n",
            "2421\n",
            "2430\n",
            "2502\n",
            "2511\n",
            "2520\n",
            "2601\n",
            "2610\n",
            "2700\n",
            "3006\n",
            "3015\n",
            "3024\n",
            "3033\n",
            "3042\n",
            "3051\n",
            "3060\n",
            "3105\n",
            "3114\n",
            "3123\n",
            "3132\n",
            "3141\n",
            "3150\n",
            "3204\n",
            "3213\n",
            "3222\n",
            "3231\n",
            "3240\n",
            "3303\n",
            "3312\n",
            "3321\n",
            "3330\n",
            "3402\n",
            "3411\n",
            "3420\n",
            "3501\n",
            "3510\n",
            "3600\n",
            "4005\n",
            "4014\n",
            "4023\n",
            "4032\n",
            "4041\n",
            "4050\n",
            "4104\n",
            "4113\n",
            "4122\n",
            "4131\n",
            "4140\n",
            "4203\n",
            "4212\n",
            "4221\n",
            "4230\n",
            "4302\n",
            "4311\n",
            "4320\n",
            "4401\n",
            "4410\n",
            "4500\n",
            "5004\n",
            "5013\n",
            "5022\n",
            "5031\n",
            "5040\n",
            "5103\n",
            "5112\n",
            "5121\n",
            "5130\n",
            "5202\n",
            "5211\n",
            "5220\n",
            "5301\n",
            "5310\n",
            "5400\n",
            "6003\n",
            "6012\n",
            "6021\n",
            "6030\n",
            "6102\n",
            "6111\n",
            "6120\n",
            "6201\n",
            "6210\n",
            "6300\n",
            "7002\n",
            "7011\n",
            "7020\n",
            "7101\n",
            "7110\n",
            "7200\n",
            "8001\n",
            "8010\n",
            "8100\n",
            "9000\n"
          ]
        }
      ]
    },
    {
      "cell_type": "code",
      "source": [
        "# OR\n",
        "for n in range (0,10000):\n",
        "  s=0\n",
        "  no=n\n",
        "  while no!=0:\n",
        "    d=no%10\n",
        "    s=s+d\n",
        "    no=no//10\n",
        "  if s==9 :\n",
        "   print(format(n,'04'))"
      ],
      "metadata": {
        "colab": {
          "base_uri": "https://localhost:8080/"
        },
        "id": "IFcepMHGlE9H",
        "outputId": "9d40d89f-8a53-4a36-8096-58b4837ff9d7"
      },
      "execution_count": null,
      "outputs": [
        {
          "output_type": "stream",
          "name": "stdout",
          "text": [
            "0009\n",
            "0018\n",
            "0027\n",
            "0036\n",
            "0045\n",
            "0054\n",
            "0063\n",
            "0072\n",
            "0081\n",
            "0090\n",
            "0108\n",
            "0117\n",
            "0126\n",
            "0135\n",
            "0144\n",
            "0153\n",
            "0162\n",
            "0171\n",
            "0180\n",
            "0207\n",
            "0216\n",
            "0225\n",
            "0234\n",
            "0243\n",
            "0252\n",
            "0261\n",
            "0270\n",
            "0306\n",
            "0315\n",
            "0324\n",
            "0333\n",
            "0342\n",
            "0351\n",
            "0360\n",
            "0405\n",
            "0414\n",
            "0423\n",
            "0432\n",
            "0441\n",
            "0450\n",
            "0504\n",
            "0513\n",
            "0522\n",
            "0531\n",
            "0540\n",
            "0603\n",
            "0612\n",
            "0621\n",
            "0630\n",
            "0702\n",
            "0711\n",
            "0720\n",
            "0801\n",
            "0810\n",
            "0900\n",
            "1008\n",
            "1017\n",
            "1026\n",
            "1035\n",
            "1044\n",
            "1053\n",
            "1062\n",
            "1071\n",
            "1080\n",
            "1107\n",
            "1116\n",
            "1125\n",
            "1134\n",
            "1143\n",
            "1152\n",
            "1161\n",
            "1170\n",
            "1206\n",
            "1215\n",
            "1224\n",
            "1233\n",
            "1242\n",
            "1251\n",
            "1260\n",
            "1305\n",
            "1314\n",
            "1323\n",
            "1332\n",
            "1341\n",
            "1350\n",
            "1404\n",
            "1413\n",
            "1422\n",
            "1431\n",
            "1440\n",
            "1503\n",
            "1512\n",
            "1521\n",
            "1530\n",
            "1602\n",
            "1611\n",
            "1620\n",
            "1701\n",
            "1710\n",
            "1800\n",
            "2007\n",
            "2016\n",
            "2025\n",
            "2034\n",
            "2043\n",
            "2052\n",
            "2061\n",
            "2070\n",
            "2106\n",
            "2115\n",
            "2124\n",
            "2133\n",
            "2142\n",
            "2151\n",
            "2160\n",
            "2205\n",
            "2214\n",
            "2223\n",
            "2232\n",
            "2241\n",
            "2250\n",
            "2304\n",
            "2313\n",
            "2322\n",
            "2331\n",
            "2340\n",
            "2403\n",
            "2412\n",
            "2421\n",
            "2430\n",
            "2502\n",
            "2511\n",
            "2520\n",
            "2601\n",
            "2610\n",
            "2700\n",
            "3006\n",
            "3015\n",
            "3024\n",
            "3033\n",
            "3042\n",
            "3051\n",
            "3060\n",
            "3105\n",
            "3114\n",
            "3123\n",
            "3132\n",
            "3141\n",
            "3150\n",
            "3204\n",
            "3213\n",
            "3222\n",
            "3231\n",
            "3240\n",
            "3303\n",
            "3312\n",
            "3321\n",
            "3330\n",
            "3402\n",
            "3411\n",
            "3420\n",
            "3501\n",
            "3510\n",
            "3600\n",
            "4005\n",
            "4014\n",
            "4023\n",
            "4032\n",
            "4041\n",
            "4050\n",
            "4104\n",
            "4113\n",
            "4122\n",
            "4131\n",
            "4140\n",
            "4203\n",
            "4212\n",
            "4221\n",
            "4230\n",
            "4302\n",
            "4311\n",
            "4320\n",
            "4401\n",
            "4410\n",
            "4500\n",
            "5004\n",
            "5013\n",
            "5022\n",
            "5031\n",
            "5040\n",
            "5103\n",
            "5112\n",
            "5121\n",
            "5130\n",
            "5202\n",
            "5211\n",
            "5220\n",
            "5301\n",
            "5310\n",
            "5400\n",
            "6003\n",
            "6012\n",
            "6021\n",
            "6030\n",
            "6102\n",
            "6111\n",
            "6120\n",
            "6201\n",
            "6210\n",
            "6300\n",
            "7002\n",
            "7011\n",
            "7020\n",
            "7101\n",
            "7110\n",
            "7200\n",
            "8001\n",
            "8010\n",
            "8100\n",
            "9000\n"
          ]
        }
      ]
    },
    {
      "cell_type": "markdown",
      "source": [
        "###14.WAP to print the multiplication table of a number entered by the user."
      ],
      "metadata": {
        "id": "CIHVTyUiFvwQ"
      }
    },
    {
      "cell_type": "code",
      "source": [
        "n=int(input('Enter the number whose multiplication table is to be printed : '))\n",
        "for i in range(1,11):\n",
        "  print('{0} * {1} = {2}'.format(n,i,n*i))"
      ],
      "metadata": {
        "colab": {
          "base_uri": "https://localhost:8080/"
        },
        "id": "u8j2MnHTG1AY",
        "outputId": "a421a210-88f8-45f6-a833-075244cf18fe"
      },
      "execution_count": null,
      "outputs": [
        {
          "output_type": "stream",
          "name": "stdout",
          "text": [
            "Enter the number whose multiplication table is to be printed : 11\n",
            "11 * 1 = 11\n",
            "11 * 2 = 22\n",
            "11 * 3 = 33\n",
            "11 * 4 = 44\n",
            "11 * 5 = 55\n",
            "11 * 6 = 66\n",
            "11 * 7 = 77\n",
            "11 * 8 = 88\n",
            "11 * 9 = 99\n",
            "11 * 10 = 110\n"
          ]
        }
      ]
    },
    {
      "cell_type": "markdown",
      "source": [
        "###15.WAP to compute factorial of a given number ."
      ],
      "metadata": {
        "id": "wAISP0a6Kw9c"
      }
    },
    {
      "cell_type": "code",
      "source": [
        "f=1\n",
        "n=int(input('Enter the number whose factorial is to be found : '))\n",
        "while n>=1 :\n",
        "  f*=n\n",
        "  n-=1\n",
        "print ('Factorial of the number is : '+str(f))"
      ],
      "metadata": {
        "colab": {
          "base_uri": "https://localhost:8080/"
        },
        "id": "o_nBVVAMKx0e",
        "outputId": "dbf03002-3865-499b-b24c-bbd96b539ac2"
      },
      "execution_count": null,
      "outputs": [
        {
          "output_type": "stream",
          "name": "stdout",
          "text": [
            "Enter the number whose factorial is to be found : 5\n",
            "Factorial of the number is : 120\n"
          ]
        }
      ]
    }
  ]
}