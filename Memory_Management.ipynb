{
  "nbformat": 4,
  "nbformat_minor": 0,
  "metadata": {
    "colab": {
      "provenance": []
    },
    "kernelspec": {
      "name": "python3",
      "display_name": "Python 3"
    },
    "language_info": {
      "name": "python"
    }
  },
  "cells": [
    {
      "cell_type": "markdown",
      "source": [
        "# MEMORY MANAGEMENT"
      ],
      "metadata": {
        "id": "He47QLxM22ez"
      }
    },
    {
      "cell_type": "code",
      "source": [
        "x =10;y=20;\n",
        "print(\"x : \" + str(x) +\"  y : \" + str(y))\n",
        "print( \"x : {0} , y : {1} answer is {0}+{1}\".format(x, y))"
      ],
      "metadata": {
        "colab": {
          "base_uri": "https://localhost:8080/"
        },
        "id": "cgr9cXSBKmkV",
        "outputId": "4900b7a0-177e-44cb-bc07-174c72594a8f"
      },
      "execution_count": null,
      "outputs": [
        {
          "output_type": "stream",
          "name": "stdout",
          "text": [
            "x : 10  y : 20\n",
            "x : 10 , y : 20 answer is 10+20\n"
          ]
        }
      ]
    },
    {
      "cell_type": "code",
      "source": [
        "a=10\n",
        "b=20\n",
        "print ( \"a : {0} , b : {1} , id(a) : {2}, id(b) : {3}\".format(a,b, id(a),id(b)))\n",
        "c=a\n",
        "print ( \"c : {0} , id(c) : {1} \".format(c, id(c)))\n",
        "c=11\n",
        "print ( \"c : {0} , id(c) : {1} \".format(c, id(c)))\n",
        "d=10\n",
        "print ( \"d : {0} , id(d) : {1} \".format(d, id(d)))\n",
        "a=a+1\n",
        "print ( \"a : {0}  , id(a) : {1}\".format(a,id(a)))\n",
        "del c\n",
        "print ( \"c : {0} , id(c) : {1} \".format(c, id(c)))"
      ],
      "metadata": {
        "colab": {
          "base_uri": "https://localhost:8080/",
          "height": 287
        },
        "id": "5eiOufjyKud4",
        "outputId": "46750f09-dc69-490e-94b0-e499b49412ce"
      },
      "execution_count": null,
      "outputs": [
        {
          "output_type": "stream",
          "name": "stdout",
          "text": [
            "a : 10 , b : 20 , id(a) : 140051158843920, id(b) : 140051158844240\n",
            "c : 10 , id(c) : 140051158843920 \n",
            "c : 11 , id(c) : 140051158843952 \n",
            "d : 10 , id(d) : 140051158843920 \n",
            "a : 11  , id(a) : 140051158843952\n"
          ]
        },
        {
          "output_type": "error",
          "ename": "NameError",
          "evalue": "ignored",
          "traceback": [
            "\u001b[0;31m---------------------------------------------------------------------------\u001b[0m",
            "\u001b[0;31mNameError\u001b[0m                                 Traceback (most recent call last)",
            "\u001b[0;32m<ipython-input-33-f52038bde401>\u001b[0m in \u001b[0;36m<cell line: 13>\u001b[0;34m()\u001b[0m\n\u001b[1;32m     11\u001b[0m \u001b[0mprint\u001b[0m \u001b[0;34m(\u001b[0m \u001b[0;34m\"a : {0}  , id(a) : {1}\"\u001b[0m\u001b[0;34m.\u001b[0m\u001b[0mformat\u001b[0m\u001b[0;34m(\u001b[0m\u001b[0ma\u001b[0m\u001b[0;34m,\u001b[0m\u001b[0mid\u001b[0m\u001b[0;34m(\u001b[0m\u001b[0ma\u001b[0m\u001b[0;34m)\u001b[0m\u001b[0;34m)\u001b[0m\u001b[0;34m)\u001b[0m\u001b[0;34m\u001b[0m\u001b[0;34m\u001b[0m\u001b[0m\n\u001b[1;32m     12\u001b[0m \u001b[0;32mdel\u001b[0m \u001b[0mc\u001b[0m\u001b[0;34m\u001b[0m\u001b[0;34m\u001b[0m\u001b[0m\n\u001b[0;32m---> 13\u001b[0;31m \u001b[0mprint\u001b[0m \u001b[0;34m(\u001b[0m \u001b[0;34m\"c : {0} , id(c) : {1} \"\u001b[0m\u001b[0;34m.\u001b[0m\u001b[0mformat\u001b[0m\u001b[0;34m(\u001b[0m\u001b[0mc\u001b[0m\u001b[0;34m,\u001b[0m \u001b[0mid\u001b[0m\u001b[0;34m(\u001b[0m\u001b[0mc\u001b[0m\u001b[0;34m)\u001b[0m\u001b[0;34m)\u001b[0m\u001b[0;34m)\u001b[0m\u001b[0;34m\u001b[0m\u001b[0;34m\u001b[0m\u001b[0m\n\u001b[0m",
            "\u001b[0;31mNameError\u001b[0m: name 'c' is not defined"
          ]
        }
      ]
    }
  ]
}