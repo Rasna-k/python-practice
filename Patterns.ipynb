{
  "nbformat": 4,
  "nbformat_minor": 0,
  "metadata": {
    "colab": {
      "provenance": [],
      "authorship_tag": "ABX9TyNHCFbhBksu1Q8nLxGNNPlN",
      "include_colab_link": true
    },
    "kernelspec": {
      "name": "python3",
      "display_name": "Python 3"
    },
    "language_info": {
      "name": "python"
    }
  },
  "cells": [
    {
      "cell_type": "markdown",
      "metadata": {
        "id": "view-in-github",
        "colab_type": "text"
      },
      "source": [
        "<a href=\"https://colab.research.google.com/github/Rasna-k/python-practice/blob/main/Patterns.ipynb\" target=\"_parent\"><img src=\"https://colab.research.google.com/assets/colab-badge.svg\" alt=\"Open In Colab\"/></a>"
      ]
    },
    {
      "cell_type": "markdown",
      "source": [
        "# PATTERN"
      ],
      "metadata": {
        "id": "qx-Jzk1s6y5_"
      }
    },
    {
      "cell_type": "markdown",
      "source": [
        "### 1.Write the python program to print the pattern\n",
        "````\n",
        "b b  1\n",
        "b  2 2\n",
        "3  3  3\n",
        "\n",
        "````"
      ],
      "metadata": {
        "id": "wPfMCRztoWsc"
      }
    },
    {
      "cell_type": "code",
      "source": [
        "for i in range (1,4) :\n",
        "  for s in range (i,3) :\n",
        "    print(\" \",end=\"\")\n",
        "  for j in range(1,i+1):\n",
        "    print(i,end=\"\")\n",
        "  print()"
      ],
      "metadata": {
        "colab": {
          "base_uri": "https://localhost:8080/"
        },
        "id": "KvMfivCPoY4k",
        "outputId": "1af4dac3-4097-4449-ba6d-16981855e1a7"
      },
      "execution_count": null,
      "outputs": [
        {
          "output_type": "stream",
          "name": "stdout",
          "text": [
            "  1\n",
            " 22\n",
            "333\n"
          ]
        }
      ]
    },
    {
      "cell_type": "markdown",
      "source": [
        "### 2.write python program to print the pyramid as shown above from fibonacci series  ( 0,1,1, 2,3, 5, 8)\n",
        "\n",
        "```\n",
        "0\n",
        "1 1\n",
        "1 1 1\n",
        "2 2 2 2\n",
        "3 3 3 3 3\n",
        "5 5 5 5 5 5\n",
        "```\n"
      ],
      "metadata": {
        "id": "3YSc3Avmpm8N"
      }
    },
    {
      "cell_type": "code",
      "source": [
        "a=0\n",
        "b=1\n",
        "for i in range (1,7) :\n",
        "  for j in range(i):\n",
        "    print(a,end=\"\")\n",
        "  c=a+b\n",
        "  a=b\n",
        "  b=c\n",
        "  print()\n"
      ],
      "metadata": {
        "colab": {
          "base_uri": "https://localhost:8080/"
        },
        "id": "bGJDqQCVppao",
        "outputId": "abcb4b05-17b2-4953-abbd-99a2790ead69"
      },
      "execution_count": null,
      "outputs": [
        {
          "output_type": "stream",
          "name": "stdout",
          "text": [
            "0\n",
            "11\n",
            "111\n",
            "2222\n",
            "33333\n",
            "555555\n"
          ]
        }
      ]
    },
    {
      "cell_type": "markdown",
      "source": [
        "### 3.WAP .....\n",
        "```\n",
        "      1\n",
        "    1 2 1\n",
        "  1 2 3 2 1\n",
        "```"
      ],
      "metadata": {
        "id": "AIeIAC5BrwRP"
      }
    },
    {
      "cell_type": "code",
      "source": [
        "n=int(input('Enter a number '))"
      ],
      "metadata": {
        "colab": {
          "base_uri": "https://localhost:8080/"
        },
        "id": "Hiy57tIIvYFt",
        "outputId": "16e026b9-36d8-498c-b40c-0cc864e2dab8"
      },
      "execution_count": null,
      "outputs": [
        {
          "name": "stdout",
          "output_type": "stream",
          "text": [
            "Enter a number 5\n"
          ]
        }
      ]
    },
    {
      "cell_type": "code",
      "source": [
        "\n",
        "for i in range (1,n+1):\n",
        "  for s in range (i,n):\n",
        "    print(\" \",end=\" \")\n",
        "  for j in range (1,i+1):\n",
        "    print(j,end=\" \")\n",
        "  for k in range (i-1,0,-1):\n",
        "    print(k,end=\" \")\n",
        "  print()"
      ],
      "metadata": {
        "colab": {
          "base_uri": "https://localhost:8080/"
        },
        "id": "jigoSIDMrypF",
        "outputId": "be67c643-9e5f-4789-ba4b-99dca85c430c"
      },
      "execution_count": null,
      "outputs": [
        {
          "output_type": "stream",
          "name": "stdout",
          "text": [
            "        1 \n",
            "      1 2 1 \n",
            "    1 2 3 2 1 \n",
            "  1 2 3 4 3 2 1 \n",
            "1 2 3 4 5 4 3 2 1 \n"
          ]
        }
      ]
    },
    {
      "cell_type": "markdown",
      "source": [
        "### 4.WAP .....\n",
        "```\n",
        "      1\n",
        "    1 2 1\n",
        "  1 2 3 2 1\n",
        "    1 2 1\n",
        "      1\n",
        "```"
      ],
      "metadata": {
        "id": "k0PvdbJAwa3M"
      }
    },
    {
      "cell_type": "code",
      "source": [
        "n=int(input('Enter a number '))"
      ],
      "metadata": {
        "id": "ZHJNfG3wwcve",
        "colab": {
          "base_uri": "https://localhost:8080/"
        },
        "outputId": "5739984b-d903-4fce-e877-99d0a6edc33f"
      },
      "execution_count": null,
      "outputs": [
        {
          "name": "stdout",
          "output_type": "stream",
          "text": [
            "Enter a number 7\n"
          ]
        }
      ]
    },
    {
      "cell_type": "code",
      "source": [
        "for i in range (1,n+1):\n",
        "  for s in range (i,n):\n",
        "    print(\" \",end=\" \")\n",
        "  for j in range (1,i+1):\n",
        "    print(j,end=\" \")\n",
        "  for k in range (i-1,0,-1):\n",
        "    print(k,end=\" \")\n",
        "  print()\n",
        "for i in range (n-1,0,-1):\n",
        "  for s in range (i,n):\n",
        "    print(\" \",end=\" \")\n",
        "  for j in range (1,i+1):\n",
        "    print(j,end=\" \")\n",
        "  for k in range (i-1,0,-1):\n",
        "    print(k,end=\" \")\n",
        "  print()"
      ],
      "metadata": {
        "id": "dU-BQihPwgbx",
        "colab": {
          "base_uri": "https://localhost:8080/"
        },
        "outputId": "71c52c5e-0735-4e15-a2f7-f235f647123b"
      },
      "execution_count": null,
      "outputs": [
        {
          "output_type": "stream",
          "name": "stdout",
          "text": [
            "            1 \n",
            "          1 2 1 \n",
            "        1 2 3 2 1 \n",
            "      1 2 3 4 3 2 1 \n",
            "    1 2 3 4 5 4 3 2 1 \n",
            "  1 2 3 4 5 6 5 4 3 2 1 \n",
            "1 2 3 4 5 6 7 6 5 4 3 2 1 \n",
            "  1 2 3 4 5 6 5 4 3 2 1 \n",
            "    1 2 3 4 5 4 3 2 1 \n",
            "      1 2 3 4 3 2 1 \n",
            "        1 2 3 2 1 \n",
            "          1 2 1 \n",
            "            1 \n"
          ]
        }
      ]
    },
    {
      "cell_type": "markdown",
      "source": [
        "### 5.WAP\n",
        "```\n",
        "1\n",
        "1 1\n",
        "1 1 1\n",
        "1 1 1 1\n",
        "```"
      ],
      "metadata": {
        "id": "WMrFeQpQBhqx"
      }
    },
    {
      "cell_type": "code",
      "source": [
        "for i in range (1,5):\n",
        "  for j in range (i):\n",
        "    print(\"1\",end=\" \")\n",
        "  print()"
      ],
      "metadata": {
        "id": "MSStcnUbBjDh"
      },
      "execution_count": null,
      "outputs": []
    },
    {
      "cell_type": "markdown",
      "source": [
        "### 6.WAP\n",
        "```\n",
        "1\n",
        "1 2\n",
        "1 2 3\n",
        "1 2 3 4\n",
        "\n",
        "```\n",
        "\n"
      ],
      "metadata": {
        "id": "7H04ZDdJBzVF"
      }
    },
    {
      "cell_type": "code",
      "source": [
        "for i in range (1,5):\n",
        "  for j in range (1,i+1):\n",
        "    print(j,end=\" \")\n",
        "  print()"
      ],
      "metadata": {
        "id": "BIA-DUXKBzmW"
      },
      "execution_count": null,
      "outputs": []
    },
    {
      "cell_type": "markdown",
      "source": [
        "### 7.WAP\n",
        "\n",
        "\n",
        "```\n",
        "     1\n",
        "   1 2 3\n",
        " 1 2 3 4 5\n",
        "1 2 3 4 5 6 7\n",
        "\n",
        "\n",
        "```\n",
        "\n"
      ],
      "metadata": {
        "id": "ZxssX0IcCPo0"
      }
    },
    {
      "cell_type": "code",
      "source": [
        "for i in range(1,9,2):\n",
        "  for s in range (i,8,2):\n",
        "    print(\" \",end=\" \")\n",
        "  for j in range(1,i+1):\n",
        "    print(j,end=\" \")\n",
        "  print()"
      ],
      "metadata": {
        "id": "zRtWlDkjCP5l"
      },
      "execution_count": null,
      "outputs": []
    },
    {
      "cell_type": "markdown",
      "source": [
        "### 8.WAP\n",
        "\n",
        "```\n",
        "*\n",
        "* *\n",
        "* * *\n",
        "* * * *\n",
        "* * * * *\n",
        "* * * *\n",
        "* * *\n",
        "* *\n",
        "*\n",
        "\n",
        "```\n"
      ],
      "metadata": {
        "id": "_PomUHO-vvyi"
      }
    },
    {
      "cell_type": "code",
      "source": [
        "for i in range(5):\n",
        "  for j in range(i+1):\n",
        "    print('*',end=\" \")\n",
        "  print()\n",
        "for i in range(4):\n",
        "  for j in range(i,4):\n",
        "    print('*',end=' ')\n",
        "  print()"
      ],
      "metadata": {
        "id": "7QO6kR7lvv_5"
      },
      "execution_count": null,
      "outputs": []
    },
    {
      "cell_type": "markdown",
      "source": [
        "### 9.WAP\n",
        "\n",
        "```\n",
        "        *\n",
        "      * * *\n",
        "    * * * * *\n",
        "  * * * * * * *\n",
        "* * * * * * * * *\n",
        "```"
      ],
      "metadata": {
        "id": "eFebGxTlx5VF"
      }
    },
    {
      "cell_type": "code",
      "source": [
        "r=13\n",
        "for i in range(1,6):\n",
        "  for s in range(i,5):\n",
        "    print(' ',end=\" \")\n",
        "  for j in range(i,15-r):\n",
        "    print('*',end=\" \")\n",
        "  r-=3\n",
        "  print()"
      ],
      "metadata": {
        "id": "Bhut9GaLyqLw",
        "colab": {
          "base_uri": "https://localhost:8080/"
        },
        "outputId": "f32dc426-f3e2-4643-d483-daee5552dace"
      },
      "execution_count": null,
      "outputs": [
        {
          "output_type": "stream",
          "name": "stdout",
          "text": [
            "        * \n",
            "      * * * \n",
            "    * * * * * \n",
            "  * * * * * * * \n",
            "* * * * * * * * * \n"
          ]
        }
      ]
    },
    {
      "cell_type": "code",
      "source": [
        "# OR\n",
        "for i in range(1,6):\n",
        "  for s in range(i,5):\n",
        "    print(' ',end=' ')\n",
        "  for j in range(1,2*i):\n",
        "    print('*',end=' ')\n",
        "  print()"
      ],
      "metadata": {
        "id": "bmrOiDlWvdT_",
        "colab": {
          "base_uri": "https://localhost:8080/"
        },
        "outputId": "9ed6da3d-dce2-444b-af1a-945fac89f48e"
      },
      "execution_count": null,
      "outputs": [
        {
          "output_type": "stream",
          "name": "stdout",
          "text": [
            "        * \n",
            "      * * * \n",
            "    * * * * * \n",
            "  * * * * * * * \n",
            "* * * * * * * * * \n"
          ]
        }
      ]
    },
    {
      "cell_type": "code",
      "source": [
        "# OR\n",
        "for i in range (1,10,2):\n",
        "  for s in range(i,8,2):\n",
        "    print(\" \",end=' ')\n",
        "  for j in range(1,i+1):\n",
        "    print('*',end=' ')\n",
        "  print()"
      ],
      "metadata": {
        "id": "g0pQvU4Oxe4F",
        "colab": {
          "base_uri": "https://localhost:8080/"
        },
        "outputId": "805d037a-75ed-4d58-b2ff-003593285215"
      },
      "execution_count": null,
      "outputs": [
        {
          "output_type": "stream",
          "name": "stdout",
          "text": [
            "        * \n",
            "      * * * \n",
            "    * * * * * \n",
            "  * * * * * * * \n",
            "* * * * * * * * * \n"
          ]
        }
      ]
    },
    {
      "cell_type": "markdown",
      "source": [
        "### 10.WAP\n",
        "\n",
        "```\n",
        "1\n",
        "2 2\n",
        "3 3 3\n",
        "4 4 4 4\n",
        "5 5 5 5 5\n",
        "6 6 6 6 6 6\n",
        "7 7 7 7 7 7 7\n",
        "8 8 8 8 8 8 8 8\n",
        "9 9 9 9 9 9 9 9 9\n",
        "```\n",
        "\n"
      ],
      "metadata": {
        "id": "VmRXTZsUyqk4"
      }
    },
    {
      "cell_type": "code",
      "source": [
        "for i in range (1,10):\n",
        "  for j in range (1,i+1):\n",
        "    print(i,end=' ')\n",
        "  print()"
      ],
      "metadata": {
        "id": "QapExfZsy-LJ"
      },
      "execution_count": null,
      "outputs": []
    },
    {
      "cell_type": "code",
      "source": [],
      "metadata": {
        "id": "lSlo1gQL2157"
      },
      "execution_count": null,
      "outputs": []
    }
  ]
}