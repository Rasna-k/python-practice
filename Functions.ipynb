{
  "nbformat": 4,
  "nbformat_minor": 0,
  "metadata": {
    "colab": {
      "provenance": [],
      "authorship_tag": "ABX9TyPrhfZ6bbn9xZhkB71mV8OM",
      "include_colab_link": true
    },
    "kernelspec": {
      "name": "python3",
      "display_name": "Python 3"
    },
    "language_info": {
      "name": "python"
    }
  },
  "cells": [
    {
      "cell_type": "markdown",
      "metadata": {
        "id": "view-in-github",
        "colab_type": "text"
      },
      "source": [
        "<a href=\"https://colab.research.google.com/github/Rasna-k/python-practice/blob/main/Functions.ipynb\" target=\"_parent\"><img src=\"https://colab.research.google.com/assets/colab-badge.svg\" alt=\"Open In Colab\"/></a>"
      ]
    },
    {
      "cell_type": "markdown",
      "source": [
        "# FUNCTIONS"
      ],
      "metadata": {
        "id": "X9e5pKK0AalF"
      }
    },
    {
      "cell_type": "markdown",
      "source": [
        "### write a function to find the given year is a leap year or not"
      ],
      "metadata": {
        "id": "c-7xzUHyAf2H"
      }
    },
    {
      "cell_type": "code",
      "source": [
        "def is_leap(year):\n",
        "    leap = False\n",
        "    if((year%4==0 and year%100!=0) or(year%100==0 and year%400==0)) :\n",
        "        leap=True\n",
        "    return leap\n",
        "\n",
        "y = int(input())\n",
        "res=is_leap(y)\n",
        "print(res)"
      ],
      "metadata": {
        "colab": {
          "base_uri": "https://localhost:8080/"
        },
        "id": "xnugV25SAgqd",
        "outputId": "1c81dba3-160a-4e57-da4d-5be81398dd97"
      },
      "execution_count": null,
      "outputs": [
        {
          "output_type": "stream",
          "name": "stdout",
          "text": [
            "1992\n",
            "True\n"
          ]
        }
      ]
    },
    {
      "cell_type": "markdown",
      "source": [
        "### You are given a string and your task is to swap cases. In other words, convert all lowercase letters to uppercase letters and vice versa."
      ],
      "metadata": {
        "id": "x0TUjCQfFNl_"
      }
    },
    {
      "cell_type": "code",
      "source": [
        "def swap_case(s):\n",
        "    l=[]\n",
        "    for c in s:\n",
        "        if c.isalpha():\n",
        "            if c.islower():\n",
        "                c=c.upper()\n",
        "            else :\n",
        "                c=c.lower()\n",
        "\n",
        "        l.append(c)\n",
        "    res=''.join(l)\n",
        "    return res\n",
        "\n",
        "if __name__ == '__main__':\n",
        "    s = input()\n",
        "    result = swap_case(s)\n",
        "    print(result)"
      ],
      "metadata": {
        "colab": {
          "base_uri": "https://localhost:8080/"
        },
        "id": "bbu9jTeKHkYY",
        "outputId": "06ffd1a4-acd3-40f1-f281-75a9e35ed4a0"
      },
      "execution_count": null,
      "outputs": [
        {
          "output_type": "stream",
          "name": "stdout",
          "text": [
            "HI India\n",
            "hi iNDIA\n"
          ]
        }
      ]
    },
    {
      "cell_type": "markdown",
      "source": [
        "### You are given a string. Split the string on a \" \" (space) delimiter and join using a - hyphen."
      ],
      "metadata": {
        "id": "Pc9b70ZAJEvu"
      }
    },
    {
      "cell_type": "code",
      "source": [
        "def split_and_join(line):\n",
        "    c=line.split()\n",
        "    r='-'.join(c)\n",
        "    return r\n",
        "\n",
        "if __name__ == '__main__':\n",
        "    line = input()\n",
        "    result = split_and_join(line)\n",
        "    print(result)"
      ],
      "metadata": {
        "colab": {
          "base_uri": "https://localhost:8080/"
        },
        "id": "G_FRmK1aJH2P",
        "outputId": "d952f8fa-0734-41e5-b5d9-bf9a3ed2bb74"
      },
      "execution_count": null,
      "outputs": [
        {
          "output_type": "stream",
          "name": "stdout",
          "text": [
            "'This is a string'\n",
            "'This-is-a-string'\n"
          ]
        }
      ]
    },
    {
      "cell_type": "markdown",
      "source": [
        "### You are given the firstname and lastname of a person on two different lines. Your task is to read them and print the following:\n",
        "```\n",
        "Hello firstname lastname! You just delved into python.\n",
        "```"
      ],
      "metadata": {
        "id": "VILahfWpKPHE"
      }
    },
    {
      "cell_type": "code",
      "source": [
        "def print_full_name(first, last):\n",
        "    # Write your code here\n",
        "    print('Hello '+first+' '+last+'! You just delved into python.')\n",
        "\n",
        "if __name__ == '__main__':\n",
        "    first_name = input()\n",
        "    last_name = input()\n",
        "    print_full_name(first_name, last_name)"
      ],
      "metadata": {
        "colab": {
          "base_uri": "https://localhost:8080/"
        },
        "id": "BHnPTA10KVtZ",
        "outputId": "201c7097-6bc8-41f8-b06b-8774840a690e"
      },
      "execution_count": null,
      "outputs": [
        {
          "output_type": "stream",
          "name": "stdout",
          "text": [
            "Ross\n",
            "Taylor\n",
            "Hello Ross Taylor! You just delved into python.\n"
          ]
        }
      ]
    },
    {
      "cell_type": "markdown",
      "source": [
        "### Read a given string, change the character at a given index and then print the modified string."
      ],
      "metadata": {
        "id": "73iSJAyjKwKM"
      }
    },
    {
      "cell_type": "code",
      "source": [
        "def mutate_string(string, position, character):\n",
        "    s=string[:position]+c+string[position+1:]\n",
        "    return s\n",
        "\n",
        "if __name__ == '__main__':\n",
        "    s = input()\n",
        "    i, c = input().split()\n",
        "    s_new = mutate_string(s, int(i), c)\n",
        "    print(s_new)"
      ],
      "metadata": {
        "colab": {
          "base_uri": "https://localhost:8080/"
        },
        "id": "NlboYLpnKx6O",
        "outputId": "5bca52ef-475b-4848-fdb1-8ec5b5bb5a58"
      },
      "execution_count": null,
      "outputs": [
        {
          "output_type": "stream",
          "name": "stdout",
          "text": [
            "abcdegf\n",
            "2 g\n",
            "abgdegf\n"
          ]
        }
      ]
    },
    {
      "cell_type": "markdown",
      "source": [
        "### You are given a string . Your task is to find out if the string  contains: alphanumeric characters, alphabetical characters, digits, lowercase and uppercase characters.\n",
        "\n",
        "\n",
        "```\n",
        "In the first line, print True if  has any alphanumeric characters. Otherwise, print False.\n",
        "In the second line, print True if  has any alphabetical characters. Otherwise, print False.\n",
        "In the third line, print True if  has any digits. Otherwise, print False.\n",
        "In the fourth line, print True if  has any lowercase characters. Otherwise, print False.\n",
        "In the fifth line, print True if  has any uppercase characters. Otherwise, print False.\n",
        "```\n",
        "\n"
      ],
      "metadata": {
        "id": "MiWbaQ5KQF9f"
      }
    },
    {
      "cell_type": "code",
      "source": [
        "if __name__ == '__main__':\n",
        "    s = input()\n",
        "    b=a=d=e=f=False\n",
        "    for c in s :\n",
        "        if c!=\" \":\n",
        "            if c.isalnum():\n",
        "                b=True\n",
        "            if c.isalpha():\n",
        "                a=True\n",
        "            if c.isdigit():\n",
        "                d=True\n",
        "            if c.islower():\n",
        "                e=True\n",
        "            if c.isupper():\n",
        "                f=True\n",
        "    print(b,a,d,e,f,sep='\\n')"
      ],
      "metadata": {
        "colab": {
          "base_uri": "https://localhost:8080/"
        },
        "id": "pAYRUOBPQYQm",
        "outputId": "94a0336d-b309-4a9d-a654-5a835f99f8ab"
      },
      "execution_count": null,
      "outputs": [
        {
          "output_type": "stream",
          "name": "stdout",
          "text": [
            "Ab5\n",
            "True\n",
            "True\n",
            "True\n",
            "True\n",
            "True\n"
          ]
        }
      ]
    },
    {
      "cell_type": "markdown",
      "source": [
        "### Mr. Vincent works in a door mat manufacturing company. One day, he designed a new door mat with the following specifications:\n",
        "\n",
        "* Mat size must be N X M.( N is an odd natural number, and M is 3 times\n",
        "N .)\n",
        "* The design should have 'WELCOME' written in the center.\n",
        "* The design pattern should only use |, . and - characters.\n",
        "\n",
        "\n",
        "**Sample Designs**\n",
        "\n",
        "    Size: 7 x 21\n",
        "    ---------.|.---------\n",
        "    ------.|..|..|.------\n",
        "    ---.|..|..|..|..|.---\n",
        "    -------WELCOME-------\n",
        "    ---.|..|..|..|..|.---\n",
        "    ------.|..|..|.------\n",
        "    ---------.|.---------\n",
        "\n",
        "    Size: 11 x 33\n",
        "    ---------------.|.---------------\n",
        "    ------------.|..|..|.------------\n",
        "    ---------.|..|..|..|..|.---------\n",
        "    ------.|..|..|..|..|..|..|.------\n",
        "    ---.|..|..|..|..|..|..|..|..|.---\n",
        "    -------------WELCOME-------------\n",
        "    ---.|..|..|..|..|..|..|..|..|.---\n",
        "    ------.|..|..|..|..|..|..|.------\n",
        "    ---------.|..|..|..|..|.---------\n",
        "    ------------.|..|..|.------------\n",
        "    ---------------.|.---------------\n",
        "\n",
        "**Input Format**\n",
        "\n",
        "A single line containing the space separated values of N and M."
      ],
      "metadata": {
        "id": "ncFOSr-mQqIJ"
      }
    },
    {
      "cell_type": "code",
      "source": [
        "def construct_mat(N,M) :\n",
        "    N,M=int(n),int(M)\n",
        "    if N%2!=0 and N>1 :\n",
        "        for i in range(1,N,2):\n",
        "            print(('.|.'*i).center(M,'-'))\n",
        "        print('WELCOME'.center(M,'-'))\n",
        "        for i in range(N-2,0,-2):\n",
        "            print(('.|.'*i).center(M,'-'))\n",
        "n,m=input().split()\n",
        "construct_mat(n,m)"
      ],
      "metadata": {
        "id": "0m7zpvYkQqjF",
        "outputId": "c0343ad3-d67b-4d0d-9829-fee4399f6bb1",
        "colab": {
          "base_uri": "https://localhost:8080/"
        }
      },
      "execution_count": null,
      "outputs": [
        {
          "output_type": "stream",
          "name": "stdout",
          "text": [
            "7 21\n",
            "---------.|.---------\n",
            "------.|..|..|.------\n",
            "---.|..|..|..|..|.---\n",
            "-------WELCOME-------\n",
            "---.|..|..|..|..|.---\n",
            "------.|..|..|.------\n",
            "---------.|.---------\n"
          ]
        }
      ]
    },
    {
      "cell_type": "markdown",
      "source": [
        "### Given an integer,n, print the following values for each integer i from 1 to n:\n",
        "* Decimal\n",
        "* Octal\n",
        "* Hexadecimal (capitalized)\n",
        "* Binary\n",
        "\n",
        "The four values must be printed on a single line in the order specified above for each i from 1  to number . Each value should be space-padded to match the width of the binary value of  number and the values should be separated by a single space.\n",
        "\n",
        "Sample Input\n",
        "```\n",
        "17\n",
        "```\n",
        "Sample Output\n",
        "```\n",
        "    1     1     1     1\n",
        "    2     2     2    10\n",
        "    3     3     3    11\n",
        "    4     4     4   100\n",
        "    5     5     5   101\n",
        "    6     6     6   110\n",
        "    7     7     7   111\n",
        "    8    10     8  1000\n",
        "    9    11     9  1001\n",
        "   10    12     A  1010\n",
        "   11    13     B  1011\n",
        "   12    14     C  1100\n",
        "   13    15     D  1101\n",
        "   14    16     E  1110\n",
        "   15    17     F  1111\n",
        "   16    20    10 10000\n",
        "   17    21    11 10001\n",
        "  ```"
      ],
      "metadata": {
        "id": "WN6mlmOZBzSp"
      }
    },
    {
      "cell_type": "code",
      "source": [
        "def print_formatted(number):\n",
        "    # your code goes here\n",
        "    n4=len(bin(number)[2:])\n",
        "    for i in range(1,number+1):\n",
        "        deca=str(i)\n",
        "        octa=str(oct(i))[2:]\n",
        "        hexa=str(hex(i)[2:].upper())\n",
        "        bina=str(bin(i))[2:]\n",
        "        print(deca.rjust(n4)+octa.rjust(n4+1)+hexa.rjust(n4+1)+bina.rjust(n4+1), sep=' ')\n",
        "\n",
        "if __name__ == '__main__':\n",
        "    n = int(input())\n",
        "    print_formatted(n)"
      ],
      "metadata": {
        "colab": {
          "base_uri": "https://localhost:8080/"
        },
        "id": "l8fuoY-3By1T",
        "outputId": "da6a8060-0f79-4873-9511-93dfcc42d25c"
      },
      "execution_count": null,
      "outputs": [
        {
          "output_type": "stream",
          "name": "stdout",
          "text": [
            "17\n",
            "    1     1     1     1\n",
            "    2     2     2    10\n",
            "    3     3     3    11\n",
            "    4     4     4   100\n",
            "    5     5     5   101\n",
            "    6     6     6   110\n",
            "    7     7     7   111\n",
            "    8    10     8  1000\n",
            "    9    11     9  1001\n",
            "   10    12     A  1010\n",
            "   11    13     B  1011\n",
            "   12    14     C  1100\n",
            "   13    15     D  1101\n",
            "   14    16     E  1110\n",
            "   15    17     F  1111\n",
            "   16    20    10 10000\n",
            "   17    21    11 10001\n"
          ]
        }
      ]
    },
    {
      "cell_type": "markdown",
      "source": [
        "### You are given an integer,N . Your task is to print an alphabet rangoli of size N. (Rangoli is a form of Indian folk art based on creation of patterns.)\n",
        "\n",
        "Different sizes of alphabet rangoli are shown below:\n",
        "```\n",
        "#size 3\n",
        "\n",
        "----c----\n",
        "--c-b-c--\n",
        "c-b-a-b-c\n",
        "--c-b-c--\n",
        "----c----\n",
        "\n",
        "#size 5\n",
        "\n",
        "--------e--------\n",
        "------e-d-e------\n",
        "----e-d-c-d-e----\n",
        "--e-d-c-b-c-d-e--\n",
        "e-d-c-b-a-b-c-d-e\n",
        "--e-d-c-b-c-d-e--\n",
        "----e-d-c-d-e----\n",
        "------e-d-e------\n",
        "--------e--------\n",
        "```\n",
        "**Returns**\n",
        "\n",
        "string: a single string made up of each of the lines of the rangoli separated by a newline character (\\n)"
      ],
      "metadata": {
        "id": "lQtxjz8aHiDc"
      }
    },
    {
      "cell_type": "code",
      "source": [
        "def print_rangoli(size):\n",
        "    # your code goes here\n",
        "    pattern=[]\n",
        "    for i in range (size-1,-1,-1):\n",
        "        l1,l2,l3=[],[],[]\n",
        "        for sp in range(1,2*i+1):\n",
        "            pattern.append('-')\n",
        "        for j in range(size-1,i-1,-1):\n",
        "            s1=chr(97+j)\n",
        "            l1.append(s1)\n",
        "        pat1='-'.join(l1)\n",
        "        pat1=pat1.split()\n",
        "        for k in range(i+1,size):\n",
        "            s2=chr(97+k)\n",
        "            l2.append(s2)\n",
        "        pat2='-'.join(l2)\n",
        "        pat2=pat2.split()\n",
        "        pattern=pattern[:]+pat1+['-']+pat2\n",
        "        for sp in range(1,2*i+1):\n",
        "            l3.append('-')\n",
        "        l3.append('\\n')\n",
        "        pattern.extend(l3)\n",
        "        if i==size-1 and i!=0:\n",
        "            le1=len(pattern)\n",
        "            del(pattern[le1-2])\n",
        "    for i in range (1,size):\n",
        "        l1,l2,l3=[],[],[]\n",
        "        for sp in range(2,2*i+2):\n",
        "            pattern.append('-')\n",
        "        for j in range(size-1,i-1,-1):\n",
        "            s1=chr(97+j)\n",
        "            l1.append(s1)\n",
        "        pat1='-'.join(l1)\n",
        "        pat1=pat1.split()\n",
        "        for k in range(j+1,size):\n",
        "            s2=chr(97+k)\n",
        "            l2.append(s2)\n",
        "        pat2='-'.join(l2)\n",
        "        pat2=pat2.split()\n",
        "        pattern=pattern[:]+pat1+['-']+pat2\n",
        "        for sp in range(2,2*i+2):\n",
        "            l3.append('-')\n",
        "        l3.append('\\n')\n",
        "        pattern.extend(l3)\n",
        "    le=len(pattern)\n",
        "    del(pattern[le-2:])\n",
        "    patt1=''.join(pattern)\n",
        "    print(patt1)\n",
        "\n",
        "if __name__ == '__main__':\n",
        "    n = int(input())\n",
        "    print_rangoli(n)"
      ],
      "metadata": {
        "colab": {
          "base_uri": "https://localhost:8080/"
        },
        "id": "B1g4dWrlHifO",
        "outputId": "b98e5611-1669-43a7-d1f1-f1767e49a04d"
      },
      "execution_count": null,
      "outputs": [
        {
          "output_type": "stream",
          "name": "stdout",
          "text": [
            "1\n",
            "a\n"
          ]
        }
      ]
    },
    {
      "cell_type": "code",
      "source": [
        "#OR\n",
        "def print_rangoli(size):\n",
        "    for i in range (size-1,-1,-1):\n",
        "        l1,l2,l3=[],[],[]\n",
        "        for sp in range(1,2*i+1):\n",
        "            print('-',end='')\n",
        "        for j in range(size-1,i-1,-1):\n",
        "            s1=chr(97+j)\n",
        "            l1.append(s1)\n",
        "        pat1='-'.join(l1)\n",
        "        for k in range(i+1,size):\n",
        "            s2=chr(97+k)\n",
        "            l2.append(s2)\n",
        "        pat2='-'.join(l2)\n",
        "        print(pat1+'-'+pat2,end='')\n",
        "        for sp in range(1,2*i+1):\n",
        "            l3.append('-')\n",
        "        l3.append('\\n')\n",
        "        pat3=''.join(l3)\n",
        "        print(pat3,end='')\n",
        "    for i in range (1,size):\n",
        "        l1,l2,l3=[],[],[]\n",
        "        for sp in range(2,2*i+2):\n",
        "            print('-',end='')\n",
        "        for j in range(size-1,i-1,-1):\n",
        "            s1=chr(97+j)\n",
        "            l1.append(s1)\n",
        "        pat1='-'.join(l1)\n",
        "        for k in range(j+1,size):\n",
        "            s2=chr(97+k)\n",
        "            l2.append(s2)\n",
        "        pat2='-'.join(l2)\n",
        "        print(pat1+'-'+pat2,end='')\n",
        "        for sp in range(2,2*i+2):\n",
        "            l3.append('-')\n",
        "        l3.append('\\n')\n",
        "        pat3=''.join(l3)\n",
        "        print(pat3,end='')\n",
        "\n",
        "if __name__ == '__main__':\n",
        "    n = int(input())\n",
        "    print_rangoli(n)"
      ],
      "metadata": {
        "id": "YsjF8eE7MV6V"
      },
      "execution_count": null,
      "outputs": []
    }
  ]
}